{
 "cells": [
  {
   "cell_type": "markdown",
   "id": "e7e4789b",
   "metadata": {},
   "source": [
    "# POOP"
   ]
  },
  {
   "cell_type": "markdown",
   "id": "e282e44d",
   "metadata": {},
   "source": [
    "## Basic Class\n",
    "`self` is an explicit version of `this` in JS.  \n",
    "It must be passed as the first parameter of any class methods."
   ]
  },
  {
   "cell_type": "code",
   "execution_count": 1,
   "id": "e85b8cbe",
   "metadata": {},
   "outputs": [
    {
     "name": "stdout",
     "output_type": "stream",
     "text": [
      "Rex says woof!\n",
      "Rex is now 5 years old!\n"
     ]
    }
   ],
   "source": [
    "class Dog:\n",
    "    def __init__(self, name, age):\n",
    "        self.name = name\n",
    "        self.age = age\n",
    "    def bark(self):\n",
    "        return f\"{self.name} says woof!\"\n",
    "    def birthday(self):\n",
    "        self.age += 1\n",
    "        return f\"{self.name} is now {self.age} years old!\"\n",
    "\n",
    "rex = Dog(\"Rex\", 4)\n",
    "print(rex.bark()) # Rex says woof\n",
    "print(rex.birthday()) # Rex is now 5 years old"
   ]
  },
  {
   "cell_type": "markdown",
   "id": "e3d6e5dd",
   "metadata": {},
   "source": [
    "## Encapsulation\n",
    "Encapsulation provides a way to protect data within instances of a class.  \n",
    "We can make attributes private and define getters and setter to access or manipulate them outside the class.\n",
    "\n",
    "By convention, we prefix private attributes with `_`.\n",
    "\n",
    "We can also use the `@property` and `@attribute.setter` decorators, to mask a method as an attribute.  \n",
    "`@property` masks for reading, and `@attribute.setter` masks for writing."
   ]
  },
  {
   "cell_type": "code",
   "execution_count": 2,
   "id": "8dfec345",
   "metadata": {},
   "outputs": [
    {
     "name": "stdout",
     "output_type": "stream",
     "text": [
      "Fido\n",
      "3\n",
      "21\n",
      "Fido is 3 years old (21 in dog years)\n",
      "Fido is 3 years old (21 in dog years)\n"
     ]
    }
   ],
   "source": [
    "class Dog:\n",
    "    def __init__(self, name, age):\n",
    "        self._name = name\n",
    "        self._age = age\n",
    "    \n",
    "    # name getter\n",
    "    @property\n",
    "    def name(self):\n",
    "        return self._name\n",
    "    \n",
    "    # name setter - with validation\n",
    "    @name.setter\n",
    "    def name(self, new_name):\n",
    "        if not new_name.strip(): # strip removes whitespace\n",
    "            raise ValueError(\"Name cannot be empty\")\n",
    "        self._name = new_name\n",
    "\n",
    "    # age getter\n",
    "    @property\n",
    "    def age(self):\n",
    "        return self._age\n",
    "    \n",
    "    # age setter - with validation\n",
    "    @age.setter\n",
    "    def age(self, new_age):\n",
    "        if new_age < 0:\n",
    "            raise ValueError(\"Age cannot be negative\")\n",
    "        self._age = new_age\n",
    "    \n",
    "    # extra read-only properties\n",
    "    @property\n",
    "    def dog_years(self):\n",
    "        return self._age * 7\n",
    "    @property\n",
    "    def description(self):\n",
    "        return f\"{self._name} is {self._age} years old ({self.dog_years} in dog years)\"\n",
    "    \n",
    "    # alternative regular method\n",
    "    def describe(self):\n",
    "        return f\"{self._name} is {self._age} years old ({self.dog_years} in dog years)\"\n",
    "\n",
    "# usage\n",
    "fido = Dog(\"Fido\", 3)\n",
    "\n",
    "print(fido.name)\n",
    "print(fido.age)\n",
    "print(fido.dog_years)\n",
    "print(fido.description)\n",
    "print(fido.describe()) # not a property, regular method\n",
    "\n",
    "fido.name = \"Rex\"\n",
    "fido.age = 4\n",
    "\n",
    "# triggering ValueError\n",
    "# fido.name = \"\"\n",
    "# fido.age = -1"
   ]
  },
  {
   "cell_type": "markdown",
   "id": "59109405",
   "metadata": {},
   "source": [
    "## Dunder Methods\n",
    "Dunder methods (short for \"double underscore\") are special methods which alter the way classes behave like native Python objects.  \n",
    "| Dunder Method     | Triggered By                | Purpose & Use Case |\n",
    "|-------------------|-----------------------------|---------------------|\n",
    "| `__init__`        | When you create an object   | Constructor |\n",
    "| `__str__`         | `print(obj)`                | Human-readable display |\n",
    "| `__repr__`        | `obj` in shell, logs, lists | Developer-facing representation |\n",
    "| `__eq__`          | `obj1 == obj2`              | Custom equality |\n",
    "| `__len__`         | `len(obj)`                  | Define size |\n",
    "| `__getitem__`     | `obj[i]`                    | Indexing |\n",
    "| `__contains__`    | `x in obj`                  | Membership test |\n",
    "| `__add__`         | `obj1 + obj2`               | Arithmetic |\n",
    "| `__sub__`         | `obj1 - obj2`               | Arithmetic |\n",
    "| `__iter__` / `__next__` | `for x in obj`        | Make your object iterable |\n"
   ]
  },
  {
   "cell_type": "code",
   "execution_count": 3,
   "id": "e0c693c6",
   "metadata": {},
   "outputs": [
    {
     "name": "stdout",
     "output_type": "stream",
     "text": [
      "(1, 2)\n",
      "[Vector(1, 2)]\n",
      "False\n",
      "(2, 4)\n",
      "11\n",
      "5.0\n"
     ]
    }
   ],
   "source": [
    "class Vector:\n",
    "    def __init__(self, x, y):\n",
    "        self._x = x\n",
    "        self._y = y\n",
    "\n",
    "    def __str__(self):\n",
    "        return f\"({self._x}, {self._y})\"\n",
    "\n",
    "    def __repr__(self):\n",
    "        return f\"Vector({self._x}, {self._y})\"\n",
    "    \n",
    "    def __eq__(self, other):\n",
    "        return isinstance(other, Vector) and self._x == other._x and self._y == other._y\n",
    "    def __add__(self, other):\n",
    "        return Vector(self._x + other._x, self._y + other._y)\n",
    "    def __sub__(self, other):\n",
    "        return Vector(self._x - other._x, self._y - other._y)\n",
    "    def __mul__(self, other): # handles dot and scalar\n",
    "        if isinstance(other, Vector):\n",
    "            return self._x * other._x + self._y * other._y\n",
    "        elif isinstance(other, (int, float)):\n",
    "            return Vector(self._x * other, self._y * other)\n",
    "        else:\n",
    "            raise TypeError(\"Unsupported operand type for *\")\n",
    "    def __truediv__(self, scalar): # scalar\n",
    "        return Vector(self._x / scalar, self._y / scalar)\n",
    "    def __neg__(self):\n",
    "        return Vector(-self._x, -self._y)\n",
    "    def __abs__(self):\n",
    "        return (self._x ** 2 + self._y ** 2) ** 0.5\n",
    "        \n",
    "\n",
    "v1 = Vector(1, 2)\n",
    "v2 = Vector(3, 4)\n",
    "print(v1)\n",
    "print([v1])\n",
    "print(v1 == v2)\n",
    "print(v1 * 2) # scalar\n",
    "print(v1 * v2) # dot\n",
    "print(abs(v2))"
   ]
  }
 ],
 "metadata": {
  "kernelspec": {
   "display_name": "Python [conda env:base] *",
   "language": "python",
   "name": "conda-base-py"
  },
  "language_info": {
   "codemirror_mode": {
    "name": "ipython",
    "version": 3
   },
   "file_extension": ".py",
   "mimetype": "text/x-python",
   "name": "python",
   "nbconvert_exporter": "python",
   "pygments_lexer": "ipython3",
   "version": "3.13.5"
  }
 },
 "nbformat": 4,
 "nbformat_minor": 5
}
