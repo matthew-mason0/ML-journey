{
 "cells": [
  {
   "cell_type": "markdown",
   "id": "57361075",
   "metadata": {},
   "source": [
    "# Numpy Essentials\n",
    "## Arrays vs Lists\n",
    "Numpy arrays are typed, fixed-size, and support vector operations.  \n",
    "Lists are flexible but slower and not optimised for numerical computation."
   ]
  },
  {
   "cell_type": "code",
   "execution_count": 1,
   "id": "ea31d6e9",
   "metadata": {},
   "outputs": [
    {
     "name": "stdout",
     "output_type": "stream",
     "text": [
      "[2 4 6]\n",
      "[1, 2, 3, 1, 2, 3]\n"
     ]
    }
   ],
   "source": [
    "import numpy as np\n",
    "a = np.array([1, 2, 3])\n",
    "b = [1, 2, 3]\n",
    "print(a + a)\n",
    "print(b + b)"
   ]
  },
  {
   "cell_type": "markdown",
   "id": "6ea99d79",
   "metadata": {},
   "source": [
    "`.shape` gives dimensions.  \n",
    "`.reshape()` changes the layout without copying data."
   ]
  },
  {
   "cell_type": "code",
   "execution_count": 12,
   "id": "6bcfbc34",
   "metadata": {},
   "outputs": [
    {
     "name": "stdout",
     "output_type": "stream",
     "text": [
      "m: [[1 2]\n",
      " [3 4]\n",
      " [5 6]]\n",
      "m.shape: (3, 2)\n",
      "\n",
      "n: [[1 2 3]\n",
      " [4 5 6]]\n",
      "n.shape: (2, 3)\n"
     ]
    }
   ],
   "source": [
    "m = np.array([[1, 2], [3, 4], [5, 6]])\n",
    "print(f\"m: {m}\")\n",
    "print(f\"m.shape: {m.shape}\\n\")\n",
    "\n",
    "n = m.reshape((2, 3))\n",
    "print(f\"n: {n}\")\n",
    "print(f\"n.shape: {n.shape}\")"
   ]
  },
  {
   "cell_type": "markdown",
   "id": "8120f742",
   "metadata": {},
   "source": [
    "Indexing works the same as with lists:  \n",
    "- Slicing syntax is `start:stop:step`\n",
    "- Negative indicies count from the end."
   ]
  },
  {
   "cell_type": "markdown",
   "id": "35b3ca7b",
   "metadata": {},
   "source": []
  }
 ],
 "metadata": {
  "kernelspec": {
   "display_name": "base",
   "language": "python",
   "name": "python3"
  },
  "language_info": {
   "codemirror_mode": {
    "name": "ipython",
    "version": 3
   },
   "file_extension": ".py",
   "mimetype": "text/x-python",
   "name": "python",
   "nbconvert_exporter": "python",
   "pygments_lexer": "ipython3",
   "version": "3.13.5"
  }
 },
 "nbformat": 4,
 "nbformat_minor": 5
}
